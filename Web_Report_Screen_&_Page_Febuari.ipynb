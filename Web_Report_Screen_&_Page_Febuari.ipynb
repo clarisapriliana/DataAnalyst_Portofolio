{
  "nbformat": 4,
  "nbformat_minor": 0,
  "metadata": {
    "colab": {
      "provenance": []
    },
    "kernelspec": {
      "name": "python3",
      "display_name": "Python 3"
    },
    "language_info": {
      "name": "python"
    }
  },
  "cells": [
    {
      "cell_type": "markdown",
      "source": [
        "# Goals\n",
        "\n",
        "The purpose of this report is to conduct a deep analysis of user behavior on the website, focusing on active users, engagement time, and pageviews per active user. Based on the analysis results, the main goal is to provide strategic recommendations that can help the company improve user experience, engagement, and conversion on the website.\n",
        "\n",
        "## Specific Objectives:\n",
        "Identify pages with the highest active users and engagement.\n",
        "\n",
        "Analyze the relationship between variables such as active users, pageviews per active user, and engagement time.\n",
        "\n",
        "Provide strategic recommendations to improve user interaction and conversion."
      ],
      "metadata": {
        "id": "kY36CQx_jFOH"
      }
    },
    {
      "cell_type": "markdown",
      "source": [
        "# Research Questions\n",
        "\n",
        "Some key research questions that this report aims to answer are:\n",
        "\n",
        "\n",
        "* Which pages have the most active users?\n",
        "* Is there a correlation between engagement time and active users?\n",
        "* Do pages with high active users also have high pageviews per active user?\n",
        "* Which pages have low active users, and what can be done to increase engagement on those pages?\n",
        "* Are there pages that need content improvement or promotion optimization to increase engagement and conversion?"
      ],
      "metadata": {
        "id": "H5FCK1YhjT3J"
      }
    },
    {
      "cell_type": "markdown",
      "source": [
        "# Analysis Methodology\n",
        "\n",
        "Steps taken in this analysis:\n",
        "\n",
        "1. Data Cleaning: The data used has been cleaned to ensure there are no missing values and all values are in appropriate formats for analysis.\n",
        "\n",
        "2. Descriptive Analysis: Descriptive statistics were performed to get an overview of the data distribution, including mean, median, and standard deviation.\n",
        "\n",
        "3. Data Visualization: Bar charts, tables, and other visualizations were used to show patterns of active users, pageviews per active user, and engagement time.\n",
        "\n",
        "4. Correlation Analysis: The relationship between active users, pageviews per active user, and engagement time was assessed to find patterns that can inform decision-making."
      ],
      "metadata": {
        "id": "rfIQDqiNj0lG"
      }
    },
    {
      "cell_type": "markdown",
      "source": [
        "# Setting Up the Libraries I Will Use in This Project"
      ],
      "metadata": {
        "id": "x0psYP31wZ2W"
      }
    },
    {
      "cell_type": "code",
      "source": [
        "import pandas as pd\n",
        "import matplotlib.pyplot as plt\n",
        "import seaborn as sns"
      ],
      "metadata": {
        "id": "Ysf0WodvwelO"
      },
      "execution_count": null,
      "outputs": []
    },
    {
      "cell_type": "markdown",
      "source": [
        "#Reading Data CSV"
      ],
      "metadata": {
        "id": "-cK0z3DSwo_X"
      }
    },
    {
      "cell_type": "code",
      "source": [
        "df = pd.read_csv('report_feb.csv')"
      ],
      "metadata": {
        "id": "rwGY6oIXwvMN"
      },
      "execution_count": null,
      "outputs": []
    },
    {
      "cell_type": "markdown",
      "source": [
        "#Menampilkan Beberapa Baris Pertama Data"
      ],
      "metadata": {
        "id": "UmosPdQRwzTP"
      }
    },
    {
      "cell_type": "code",
      "source": [
        "print(\"Menampilkan beberapa baris pertama data:\")\n",
        "print(df.head().to_string())"
      ],
      "metadata": {
        "colab": {
          "base_uri": "https://localhost:8080/"
        },
        "id": "VIUKSDV1w1y4",
        "outputId": "0537912d-8c47-4135-def1-6c427ecde63c"
      },
      "execution_count": null,
      "outputs": [
        {
          "output_type": "stream",
          "name": "stdout",
          "text": [
            "Menampilkan beberapa baris pertama data:\n",
            "                          Jalur halaman dan kelompok tampilan  Tampilan  Pengguna aktif  Tayangan per pengguna aktif  Waktu engagement rata-rata per pengguna aktif  Jumlah peristiwa  Peristiwa utama  Pendapatan total\n",
            "0  /efek-samping-dan-gejala-konsumsi-narkoba-jenis-sabu-sabu/     13842           11982                     1.155233                                      71.303539             49691                0                 0\n",
            "1                                                           /      6879            3827                     1.797492                                      27.651163             21757                0                 0\n",
            "2          /betis-kram-saat-tidur-penyebab-dan-penanganannya/      3927            3475                     1.130072                                      60.231655             14857                0                 0\n",
            "3       /kardiovaskular-pengertian-sebab-dan-contoh-penyakit/      3288            2735                     1.202194                                      73.850457             12093                0                 0\n",
            "4                                                   /belanja/      3041            1128                     2.695922                                      56.282801              6843                0                 0\n"
          ]
        }
      ]
    },
    {
      "cell_type": "markdown",
      "source": [
        "# Data Cleaning"
      ],
      "metadata": {
        "id": "C6i8nmGSxhmf"
      }
    },
    {
      "cell_type": "markdown",
      "source": [
        "##Checking for missing data"
      ],
      "metadata": {
        "id": "wxVwMiMjxlPj"
      }
    },
    {
      "cell_type": "code",
      "source": [
        "#check missing values disetiap kolom\n",
        "print (\"Check data yang hilang\")\n",
        "print (df.isnull().sum())"
      ],
      "metadata": {
        "colab": {
          "base_uri": "https://localhost:8080/"
        },
        "id": "igmMPK1DxjFB",
        "outputId": "5807ac3e-4e83-4857-f7d3-eb871400c573"
      },
      "execution_count": null,
      "outputs": [
        {
          "output_type": "stream",
          "name": "stdout",
          "text": [
            "Check data yang hilang\n",
            "Jalur halaman dan kelompok tampilan              0\n",
            "Tampilan                                         0\n",
            "Pengguna aktif                                   0\n",
            "Tayangan per pengguna aktif                      0\n",
            "Waktu engagement rata-rata per pengguna aktif    0\n",
            "Jumlah peristiwa                                 0\n",
            "Peristiwa utama                                  0\n",
            "Pendapatan total                                 0\n",
            "dtype: int64\n"
          ]
        }
      ]
    },
    {
      "cell_type": "code",
      "source": [
        "#Menampilkan persentase missing value\n",
        "print (\"Check persentase data yang hilang\")\n",
        "print((df.isnull().sum() / len(df)) * 100)"
      ],
      "metadata": {
        "colab": {
          "base_uri": "https://localhost:8080/"
        },
        "id": "x1qsg4UnyAoq",
        "outputId": "465227cb-dae6-46b1-84be-4939e2370917"
      },
      "execution_count": null,
      "outputs": [
        {
          "output_type": "stream",
          "name": "stdout",
          "text": [
            "Check persentase data yang hilang\n",
            "Jalur halaman dan kelompok tampilan              0.0\n",
            "Tampilan                                         0.0\n",
            "Pengguna aktif                                   0.0\n",
            "Tayangan per pengguna aktif                      0.0\n",
            "Waktu engagement rata-rata per pengguna aktif    0.0\n",
            "Jumlah peristiwa                                 0.0\n",
            "Peristiwa utama                                  0.0\n",
            "Pendapatan total                                 0.0\n",
            "dtype: float64\n"
          ]
        }
      ]
    },
    {
      "cell_type": "markdown",
      "source": [
        "## Penanganan Data yang Hilang"
      ],
      "metadata": {
        "id": "DEwgUrl_ykQB"
      }
    },
    {
      "cell_type": "code",
      "source": [
        "# Menghapus baris dengan missing values\n",
        "df_cleaned = df.dropna()"
      ],
      "metadata": {
        "id": "V-aUs3iCylr-"
      },
      "execution_count": null,
      "outputs": []
    },
    {
      "cell_type": "code",
      "source": [
        "# Mengisi data yang hilang\n",
        "df['Tampilan'] = df['Tampilan'].fillna(df['Tampilan'].mean())\n",
        "df['Pengguna aktif']  = df['Pengguna aktif'].fillna(df['Pengguna aktif'].mean())\n",
        "df['Tayangan per pengguna aktif'] = df['Tayangan per pengguna aktif'].fillna(df['Tayangan per pengguna aktif'].median())"
      ],
      "metadata": {
        "id": "_H3CHg_syyXp"
      },
      "execution_count": null,
      "outputs": []
    },
    {
      "cell_type": "code",
      "source": [
        "# Mengisi dengan Metode Forward Fill / Backward Fill\n",
        "df.fillna(method='ffill', inplace=True)\n",
        "df.fillna(method='bfill', inplace=True)"
      ],
      "metadata": {
        "colab": {
          "base_uri": "https://localhost:8080/"
        },
        "id": "R114-9FHzQRH",
        "outputId": "647b0a07-b64e-4a93-ff17-f3bb4597867f"
      },
      "execution_count": null,
      "outputs": [
        {
          "output_type": "stream",
          "name": "stderr",
          "text": [
            "<ipython-input-20-82c9c953ec4a>:2: FutureWarning: DataFrame.fillna with 'method' is deprecated and will raise in a future version. Use obj.ffill() or obj.bfill() instead.\n",
            "  df.fillna(method='ffill', inplace=True)\n",
            "<ipython-input-20-82c9c953ec4a>:3: FutureWarning: DataFrame.fillna with 'method' is deprecated and will raise in a future version. Use obj.ffill() or obj.bfill() instead.\n",
            "  df.fillna(method='bfill', inplace=True)\n"
          ]
        }
      ]
    },
    {
      "cell_type": "code",
      "source": [
        "# Mengisi dengan nilai tetap\n",
        "df.fillna(0, inplace=True)"
      ],
      "metadata": {
        "id": "VmYbyMOZzerQ"
      },
      "execution_count": null,
      "outputs": []
    },
    {
      "cell_type": "markdown",
      "source": [
        "## Mengecek dan Menghapus Data Duplikat"
      ],
      "metadata": {
        "id": "D_i6BhfVzyZf"
      }
    },
    {
      "cell_type": "code",
      "source": [
        "# Cek jumlah data duplikat\n",
        "print(\"Jumlah data duplikat:\", df.duplicated().sum())"
      ],
      "metadata": {
        "colab": {
          "base_uri": "https://localhost:8080/"
        },
        "id": "gwfSx8YTz1G5",
        "outputId": "31c5201b-4a87-4d94-e7da-0b220fc0954d"
      },
      "execution_count": null,
      "outputs": [
        {
          "output_type": "stream",
          "name": "stdout",
          "text": [
            "Jumlah data duplikat: 0\n"
          ]
        }
      ]
    },
    {
      "cell_type": "code",
      "source": [
        "# Menampilkan informasi data terbaru\n",
        "print(\"Informasi data terbaru:\")\n",
        "print(df_cleaned.info())"
      ],
      "metadata": {
        "colab": {
          "base_uri": "https://localhost:8080/"
        },
        "id": "PfffiGytz7-P",
        "outputId": "ec0bffe2-129f-4bbf-fd30-a02a0dfb7b36"
      },
      "execution_count": null,
      "outputs": [
        {
          "output_type": "stream",
          "name": "stdout",
          "text": [
            "Informasi data terbaru:\n",
            "<class 'pandas.core.frame.DataFrame'>\n",
            "RangeIndex: 1110 entries, 0 to 1109\n",
            "Data columns (total 8 columns):\n",
            " #   Column                                         Non-Null Count  Dtype  \n",
            "---  ------                                         --------------  -----  \n",
            " 0   Jalur halaman dan kelompok tampilan            1110 non-null   object \n",
            " 1   Tampilan                                       1110 non-null   int64  \n",
            " 2   Pengguna aktif                                 1110 non-null   int64  \n",
            " 3   Tayangan per pengguna aktif                    1110 non-null   float64\n",
            " 4   Waktu engagement rata-rata per pengguna aktif  1110 non-null   float64\n",
            " 5   Jumlah peristiwa                               1110 non-null   int64  \n",
            " 6   Peristiwa utama                                1110 non-null   int64  \n",
            " 7   Pendapatan total                               1110 non-null   int64  \n",
            "dtypes: float64(2), int64(5), object(1)\n",
            "memory usage: 69.5+ KB\n",
            "None\n"
          ]
        }
      ]
    },
    {
      "cell_type": "markdown",
      "source": [
        "## Mengecek dan Mengubah Tipe Data (Data Type)"
      ],
      "metadata": {
        "id": "gAoSJUck0KxJ"
      }
    },
    {
      "cell_type": "code",
      "source": [
        "# Mengecek tipe data kolom\n",
        "print(\"Mengecek tipe data kolom\")\n",
        "print(df_cleaned.dtypes)"
      ],
      "metadata": {
        "colab": {
          "base_uri": "https://localhost:8080/"
        },
        "id": "fCKspZUE0KoO",
        "outputId": "96e7c1e0-6e62-491a-c899-1f19cda0f649"
      },
      "execution_count": null,
      "outputs": [
        {
          "output_type": "stream",
          "name": "stdout",
          "text": [
            "Mengecek tipe data kolom\n",
            "Jalur halaman dan kelompok tampilan               object\n",
            "Tampilan                                           int64\n",
            "Pengguna aktif                                     int64\n",
            "Tayangan per pengguna aktif                      float64\n",
            "Waktu engagement rata-rata per pengguna aktif    float64\n",
            "Jumlah peristiwa                                   int64\n",
            "Peristiwa utama                                    int64\n",
            "Pendapatan total                                   int64\n",
            "dtype: object\n"
          ]
        }
      ]
    },
    {
      "cell_type": "markdown",
      "source": [
        "#Data Exploration!"
      ],
      "metadata": {
        "id": "qgoGe45O05WY"
      }
    },
    {
      "cell_type": "markdown",
      "source": [
        "## Analyst Descriptive\n",
        "\n",
        "Statistik deskriptif memberikan gambaran umum tentang distribusi data dalam bentuk ringkasan, seperti mean, median, standar deviasi, min, max, dan quartiles. Ini membantu untuk memahami sebaran data dan mendeteksi anomali lebih lanjut"
      ],
      "metadata": {
        "id": "TiBHSTQZ37t4"
      }
    },
    {
      "cell_type": "code",
      "source": [
        "# Menghitung statistik deskriptif untuk data numerik\n",
        "desc_stats = df_cleaned.describe()\n",
        "print(\"\\nStatistik Deskriptif:\")\n",
        "print(desc_stats)"
      ],
      "metadata": {
        "colab": {
          "base_uri": "https://localhost:8080/"
        },
        "id": "Ok4xz6Lm3-ds",
        "outputId": "8806e500-8246-47f7-e8a6-d0a9efbb050d"
      },
      "execution_count": null,
      "outputs": [
        {
          "output_type": "stream",
          "name": "stdout",
          "text": [
            "\n",
            "Statistik Deskriptif:\n",
            "           Tampilan  Pengguna aktif  Tayangan per pengguna aktif  \\\n",
            "count   1110.000000     1110.000000                  1110.000000   \n",
            "mean      83.053153       63.790991                     1.248310   \n",
            "std      531.595070      427.327556                     0.420555   \n",
            "min        1.000000        0.000000                     0.000000   \n",
            "25%        2.000000        2.000000                     1.000000   \n",
            "50%        8.000000        7.000000                     1.133939   \n",
            "75%       30.000000       25.000000                     1.333333   \n",
            "max    13842.000000    11982.000000                     7.000000   \n",
            "\n",
            "       Waktu engagement rata-rata per pengguna aktif  Jumlah peristiwa  \\\n",
            "count                                    1110.000000       1110.000000   \n",
            "mean                                       31.198147        280.320721   \n",
            "std                                        47.609419       1852.941872   \n",
            "min                                         0.000000          1.000000   \n",
            "25%                                        11.517857          7.000000   \n",
            "50%                                        21.000000         26.000000   \n",
            "75%                                        37.259002         99.250000   \n",
            "max                                       809.000000      49691.000000   \n",
            "\n",
            "       Peristiwa utama  Pendapatan total  \n",
            "count           1110.0            1110.0  \n",
            "mean               0.0               0.0  \n",
            "std                0.0               0.0  \n",
            "min                0.0               0.0  \n",
            "25%                0.0               0.0  \n",
            "50%                0.0               0.0  \n",
            "75%                0.0               0.0  \n",
            "max                0.0               0.0  \n"
          ]
        }
      ]
    },
    {
      "cell_type": "markdown",
      "source": [
        "## Matriks Korelasi\n",
        "Hal ini dilakukan untuk melihat hubungan antar variabel dalam dataset. Dengan matriks korelasi kita bisa mengetahui apakah ada hubungan positif atau negatif antara variabel-variabel tertentu"
      ],
      "metadata": {
        "id": "BEivngpO4eE6"
      }
    },
    {
      "cell_type": "code",
      "source": [
        "# Matriks korelasi untuk kolom tertentu\n",
        "corr_matrix = df_cleaned[['Tampilan', 'Pengguna aktif', 'Tayangan per pengguna aktif', 'Waktu engagement rata-rata per pengguna aktif', 'Jumlah peristiwa']].corr()\n",
        "\n",
        "# Menampilkan matriks korelasi\n",
        "print(\"\\nMatriks Korelasi Antara Variabel:\")\n",
        "print(corr_matrix)"
      ],
      "metadata": {
        "colab": {
          "base_uri": "https://localhost:8080/"
        },
        "id": "XqFOtwTk4tl2",
        "outputId": "c1597f64-d565-455b-c803-7cc9ee526cb0"
      },
      "execution_count": null,
      "outputs": [
        {
          "output_type": "stream",
          "name": "stdout",
          "text": [
            "\n",
            "Matriks Korelasi Antara Variabel:\n",
            "                                               Tampilan  Pengguna aktif  \\\n",
            "Tampilan                                       1.000000        0.981344   \n",
            "Pengguna aktif                                 0.981344        1.000000   \n",
            "Tayangan per pengguna aktif                    0.059887        0.019035   \n",
            "Waktu engagement rata-rata per pengguna aktif  0.060946        0.062320   \n",
            "Jumlah peristiwa                               0.995012        0.993827   \n",
            "\n",
            "                                               Tayangan per pengguna aktif  \\\n",
            "Tampilan                                                          0.059887   \n",
            "Pengguna aktif                                                    0.019035   \n",
            "Tayangan per pengguna aktif                                       1.000000   \n",
            "Waktu engagement rata-rata per pengguna aktif                     0.121758   \n",
            "Jumlah peristiwa                                                  0.038655   \n",
            "\n",
            "                                               Waktu engagement rata-rata per pengguna aktif  \\\n",
            "Tampilan                                                                            0.060946   \n",
            "Pengguna aktif                                                                      0.062320   \n",
            "Tayangan per pengguna aktif                                                         0.121758   \n",
            "Waktu engagement rata-rata per pengguna aktif                                       1.000000   \n",
            "Jumlah peristiwa                                                                    0.062709   \n",
            "\n",
            "                                               Jumlah peristiwa  \n",
            "Tampilan                                               0.995012  \n",
            "Pengguna aktif                                         0.993827  \n",
            "Tayangan per pengguna aktif                            0.038655  \n",
            "Waktu engagement rata-rata per pengguna aktif          0.062709  \n",
            "Jumlah peristiwa                                       1.000000  \n"
          ]
        }
      ]
    },
    {
      "cell_type": "markdown",
      "source": [
        "## Visualization\n"
      ],
      "metadata": {
        "id": "AFGYI1vh4_GM"
      }
    },
    {
      "cell_type": "markdown",
      "source": [
        "### Pengguna aktif per halaman"
      ],
      "metadata": {
        "id": "Ty9xQKbZ5F3y"
      }
    },
    {
      "cell_type": "code",
      "source": [
        "# Top 10 Jumlah Pengguna Aktif per Halaman Membuat tabel jumlah Pengguna Aktif per Halaman\n",
        "top_10_pengguna_aktif = df_cleaned[['Jalur halaman dan kelompok tampilan', 'Pengguna aktif']].sort_values(by='Pengguna aktif', ascending=False).head(10)\n",
        "top_10_pengguna_aktif['Rank'] = range(1, len(top_10_pengguna_aktif) + 1)\n",
        "top_10_pengguna_aktif = top_10_pengguna_aktif[['Rank', 'Jalur halaman dan kelompok tampilan', 'Pengguna aktif']]\n",
        "\n",
        "\n",
        "# Menampilkan tabel\n",
        "print(\"Tabel Pengguna Aktif per Halaman:\")\n",
        "print(top_10_pengguna_aktif)"
      ],
      "metadata": {
        "colab": {
          "base_uri": "https://localhost:8080/"
        },
        "id": "ciSL5Ujy5h2r",
        "outputId": "25248e19-0cf0-4bb7-d480-d158e2e06467"
      },
      "execution_count": null,
      "outputs": [
        {
          "output_type": "stream",
          "name": "stdout",
          "text": [
            "Tabel Pengguna Aktif per Halaman:\n",
            "    Rank                Jalur halaman dan kelompok tampilan  Pengguna aktif\n",
            "0      1  /efek-samping-dan-gejala-konsumsi-narkoba-jeni...           11982\n",
            "1      2                                                  /            3827\n",
            "2      3  /betis-kram-saat-tidur-penyebab-dan-penanganan...            3475\n",
            "3      4  /kardiovaskular-pengertian-sebab-dan-contoh-pe...            2735\n",
            "6      5  /7-cara-ampuh-turunkan-kolesterol-secara-alami...            2117\n",
            "8      6  /leher-kaku-dan-kepala-pusing-gejala-penyakit-...            1965\n",
            "7      7    /15-pantangan-makanan-untuk-pengidap-asam-urat/            1864\n",
            "5      8                               /indeks-pemeriksaan/            1646\n",
            "11     9    /tanda-tanda-pcos-pada-wanita-yang-dimunculkan/            1465\n",
            "10    10                                    /kantor-cabang/            1167\n"
          ]
        }
      ]
    },
    {
      "cell_type": "markdown",
      "source": [
        "### Waktu Engagement vs Pengguna Aktif"
      ],
      "metadata": {
        "id": "aE4LVWfd6XxP"
      }
    },
    {
      "cell_type": "code",
      "source": [
        "plt.figure(figsize=(12, 6))\n",
        "sns.scatterplot(x='Waktu engagement rata-rata per pengguna aktif', y='Pengguna aktif', data=df_cleaned)\n",
        "plt.title('Waktu Engagement vs Pengguna Aktif')\n",
        "plt.savefig('waktu_engagement_vs_pengguna_aktif.png')  # Menyimpan visualisasi sebagai gambar\n",
        "plt.show()"
      ],
      "metadata": {
        "colab": {
          "base_uri": "https://localhost:8080/",
          "height": 564
        },
        "id": "4Cszj63J6SaR",
        "outputId": "ff412028-915b-4da7-c241-36e3a74d1a13"
      },
      "execution_count": null,
      "outputs": [
        {
          "output_type": "display_data",
          "data": {
            "text/plain": [
              "<Figure size 1200x600 with 1 Axes>"
            ],
            "image/png": "[encoded data removed]"
          },
          "metadata": {}
        }
      ]
    },
    {
      "cell_type": "markdown",
      "source": [
        "### Matriks Korelasi"
      ],
      "metadata": {
        "id": "orQNdmSq6bWa"
      }
    },
    {
      "cell_type": "code",
      "source": [
        "# Heatmap untuk Matriks Korelasi\n",
        "plt.figure(figsize=(12, 6))\n",
        "sns.heatmap(corr_matrix, annot=True, cmap='coolwarm', fmt='.2f')\n",
        "plt.title('Matriks Korelasi')\n",
        "plt.savefig('matriks_korelasi.png')  # Menyimpan visualisasi sebagai gambar\n",
        "plt.show()"
      ],
      "metadata": {
        "colab": {
          "base_uri": "https://localhost:8080/",
          "height": 871
        },
        "id": "ACXse75V6dm5",
        "outputId": "9464d959-3699-4dae-b1bc-a93c17b2ee32"
      },
      "execution_count": null,
      "outputs": [
        {
          "output_type": "display_data",
          "data": {
            "text/plain": [
              "<Figure size 1200x600 with 2 Axes>"
            ],
            "image/png": "[encoded data removed]"
          },
          "metadata": {}
        }
      ]
    },
    {
      "cell_type": "markdown",
      "source": [
        "# Analysis Results"
      ],
      "metadata": {
        "id": "bDtE3njq64GP"
      }
    },
    {
      "cell_type": "code",
      "source": [
        "top_engagement = df.sort_values(by='Waktu engagement rata-rata per pengguna aktif', ascending=False).head(5)\n",
        "top_users = df.sort_values(by='Pengguna aktif', ascending=False).head(5)\n",
        "\n",
        "print(\"\\nTop 5 Halaman dengan Waktu Engagement Tertinggi:\")\n",
        "print(top_engagement[['Jalur halaman dan kelompok tampilan', 'Waktu engagement rata-rata per pengguna aktif']])\n",
        "\n",
        "print(\"\\nTop 5 Halaman dengan Pengguna Aktif Tertinggi:\")\n",
        "print(top_users[['Jalur halaman dan kelompok tampilan', 'Pengguna aktif']])"
      ],
      "metadata": {
        "colab": {
          "base_uri": "https://localhost:8080/"
        },
        "id": "wimkOeJc6yvj",
        "outputId": "860cf4c3-3677-4641-da13-36d2b65c9447"
      },
      "execution_count": null,
      "outputs": [
        {
          "output_type": "stream",
          "name": "stdout",
          "text": [
            "\n",
            "Top 5 Halaman dengan Waktu Engagement Tertinggi:\n",
            "                    Jalur halaman dan kelompok tampilan  \\\n",
            "1043  /produk/kesehatan-calon-jamaah-haji-umroh-ekse...   \n",
            "877             /produk/hipertensi-dan-penyakit-ginjal/   \n",
            "922                                        /barbiturat/   \n",
            "147   /cito-health-harmony-pilihan-tepat-untuk-keseh...   \n",
            "828                            /faktor-resiko-obesitas/   \n",
            "\n",
            "      Waktu engagement rata-rata per pengguna aktif  \n",
            "1043                                        809.000  \n",
            "877                                         704.000  \n",
            "922                                         506.000  \n",
            "147                                         460.125  \n",
            "828                                         353.000  \n",
            "\n",
            "Top 5 Halaman dengan Pengguna Aktif Tertinggi:\n",
            "                 Jalur halaman dan kelompok tampilan  Pengguna aktif\n",
            "0  /efek-samping-dan-gejala-konsumsi-narkoba-jeni...           11982\n",
            "1                                                  /            3827\n",
            "2  /betis-kram-saat-tidur-penyebab-dan-penanganan...            3475\n",
            "3  /kardiovaskular-pengertian-sebab-dan-contoh-pe...            2735\n",
            "6  /7-cara-ampuh-turunkan-kolesterol-secara-alami...            2117\n"
          ]
        }
      ]
    },
    {
      "cell_type": "markdown",
      "source": [
        "### **Analysis Results**  \n",
        "\n",
        "#### **1. Top 5 Pages with the Highest Engagement Time**  \n",
        "The pages with the highest **average engagement time per active user** indicate that users are spending a significant amount of time on these pages, which suggests high user interest or detailed content.  \n",
        "\n",
        "| Rank | Page URL | Average Engagement Time (Seconds) |\n",
        "|------|------------------------------------------------|----------------------------|\n",
        "| 1 | `/produk/kesehatan-calon-jamaah-haji-umroh-ekse...` | 809.00 |\n",
        "| 2 | `/produk/hipertensi-dan-penyakit-ginjal/` | 704.00 |\n",
        "| 3 | `/barbiturat/` | 506.00 |\n",
        "| 4 | `/cito-health-harmony-pilihan-tepat-untuk-kesehatan/` | 460.13 |\n",
        "| 5 | `/faktor-resiko-obesitas/` | 353.00 |\n",
        "\n",
        "**Insights & Recommendations:**  \n",
        "- The **high engagement time** on these pages suggests users are **deeply interested** in these topics.  \n",
        "- Pages related to **medical products and health concerns** dominate the list, indicating a demand for **detailed health-related content**.  \n",
        "- Recommendation:  \n",
        "  - Optimize these pages with **better navigation, related content suggestions, or call-to-action (CTA)** to keep users engaged.  \n",
        "  - Consider monetization strategies, such as **premium content, consultations, or product promotions**, since users spend more time here.  \n",
        "\n",
        "\n",
        "#### **2. Top 5 Pages with the Highest Active Users**  \n",
        "The pages with the most **active users** show where the majority of visitors land, indicating popular topics.  \n",
        "\n",
        "| Rank | Page URL | Active Users |\n",
        "|------|------------------------------------------------|--------------|\n",
        "| 1 | `/efek-samping-dan-gejala-konsumsi-narkoba-jenis-sabu-sabu/` | 11,982 |\n",
        "| 2 | `/` (Homepage) | 3,827 |\n",
        "| 3 | `/betis-kram-saat-tidur-penyebab-dan-penanganannya/` | 3,475 |\n",
        "| 4 | `/kardiovaskular-pengertian-sebab-dan-contoh-penyakit/` | 2,735 |\n",
        "| 5 | `/7-cara-ampuh-turunkan-kolesterol-secara-alami-dan-aman-untuk-kesehatan/` | 2,117 |\n",
        "\n",
        "**Insights & Recommendations:**  \n",
        "- The **highest traffic page** is related to **drug side effects**, indicating significant user concern about substance abuse.  \n",
        "- The **homepage** ranks second, meaning many users navigate from there to other sections.  \n",
        "- Health-related topics, such as **muscle cramps, cardiovascular diseases, and cholesterol reduction**, attract high user interest.  \n",
        "- Recommendation:  \n",
        "  - Enhance the **homepage layout** to **guide users toward high-engagement content**.  \n",
        "  - Improve **SEO and content marketing** strategies for health-related topics.  \n",
        "  - Consider adding **interactive content** (e.g., self-assessment quizzes, expert Q&A) to increase engagement.  \n",
        "\n",
        "---\n",
        "\n",
        "### **Key Takeaways**  \n",
        "1. **Health and drug-related topics dominate user interest**, both in terms of engagement time and active users.  \n",
        "2. **The homepage plays a significant role** in directing traffic—optimizing navigation and content suggestions here can improve engagement.  \n",
        "3. **High-engagement pages** present monetization opportunities, such as premium content, medical consultations, or health-related products.  \n",
        "\n",
        "Would you like me to refine this further or add more specific recommendations?"
      ],
      "metadata": {
        "id": "1Jm6Fm5ylj9w"
      }
    }
  ]
}